{
 "cells": [
  {
   "cell_type": "code",
   "execution_count": 3,
   "id": "b059df63",
   "metadata": {},
   "outputs": [],
   "source": [
    "import psycopg2"
   ]
  },
  {
   "cell_type": "markdown",
   "id": "0f8dc197",
   "metadata": {},
   "source": [
    "create connection with the database"
   ]
  },
  {
   "cell_type": "code",
   "execution_count": 4,
   "id": "dd59eff6",
   "metadata": {},
   "outputs": [],
   "source": [
    "try:\n",
    "    con=psycopg2.connect('host = 127.0.0.1 dbname = postgres user=postgres password=root')\n",
    "except psycopg2.Error as e:\n",
    "    print('Error: couldnot make connection to the database')\n",
    "    print(e)"
   ]
  },
  {
   "cell_type": "markdown",
   "id": "7b7a7d4c",
   "metadata": {},
   "source": [
    "use the connection to get the cursor that can be used to execute queries"
   ]
  },
  {
   "cell_type": "code",
   "execution_count": 5,
   "id": "c1d6f809",
   "metadata": {},
   "outputs": [],
   "source": [
    "try:\n",
    "    cur = con.cursor()\n",
    "except psycopg2.Error as e:\n",
    "    print('Error: couldnot make connection to the database')\n",
    "    print(e)"
   ]
  },
  {
   "cell_type": "markdown",
   "id": "0d7a4600",
   "metadata": {},
   "source": [
    "set automatic commit to true so that you donot have to call con.commit() after each command"
   ]
  },
  {
   "cell_type": "code",
   "execution_count": 6,
   "id": "1edea66e",
   "metadata": {},
   "outputs": [],
   "source": [
    "con.set_session(autocommit=True)"
   ]
  },
  {
   "cell_type": "code",
   "execution_count": 7,
   "id": "fef67dc9",
   "metadata": {},
   "outputs": [],
   "source": [
    "#create a database\n",
    "cur.execute('create database college')"
   ]
  },
  {
   "cell_type": "code",
   "execution_count": 8,
   "id": "d74488f8",
   "metadata": {},
   "outputs": [],
   "source": [
    "#close the connection to the default db and create a new connection to the db firtsdb.\n",
    "try:\n",
    "    con.close()\n",
    "except:\n",
    "    print('error')\n",
    "\n",
    "try:\n",
    "    con = psycopg2.connect('host = 127.0.0.1 dbname = college user = postgres password = root')\n",
    "except psycopg2.Error as e:\n",
    "    print('Error: Could not connect to the database')\n",
    "    print(e)\n",
    "\n",
    "try:\n",
    "    cur = con.cursor()\n",
    "except psycopg2.Error as e:\n",
    "    print('Error: Could not connect to the database')\n",
    "    print(e)\n",
    "con.set_session(autocommit=True)"
   ]
  },
  {
   "cell_type": "code",
   "execution_count": 9,
   "id": "da599ab1",
   "metadata": {},
   "outputs": [],
   "source": [
    "#create a table\n",
    "cur.execute('create table students(student_id int, name varchar, age int, gender varchar, subject varchar, marks int)')"
   ]
  },
  {
   "cell_type": "code",
   "execution_count": 10,
   "id": "24405ca8",
   "metadata": {},
   "outputs": [],
   "source": [
    "#insert into databse\n",
    "try:\n",
    "    cur.execute('insert into students(student_id, name, age, gender , subject , marks )\\\n",
    "                values(%s, %s, %s, %s,%s, %s)',\\\n",
    "                (1, 'venu', 26, 'female', 'Maths', 98 ))\n",
    "except psycopg2.Error as e:\n",
    "    print('Error: Could not connect to the database')\n",
    "    print(e)\n",
    "try:\n",
    "    cur.execute('insert into students(student_id, name, age, gender , subject , marks )\\\n",
    "                values(%s, %s, %s, %s,%s, %s)',\\\n",
    "                (2, 'emily', 28, 'female', 'Maths', 89 ))\n",
    "except psycopg2.Error as e:\n",
    "    print('Error: Could not connect to the database')\n",
    "    print(e)\n"
   ]
  },
  {
   "cell_type": "code",
   "execution_count": 12,
   "id": "815d84f6",
   "metadata": {},
   "outputs": [
    {
     "name": "stdout",
     "output_type": "stream",
     "text": [
      "(1, 'venu', 26, 'female', 'Maths', 98)\n",
      "(2, 'emily', 28, 'female', 'Maths', 89)\n"
     ]
    }
   ],
   "source": [
    "try:\n",
    "    cur.execute('select * from students;')\n",
    "except psycopg2.Error as e:\n",
    "    print('Error: Could not connect to the database')\n",
    "    print(e)\n",
    "for row in cur:\n",
    "    print(row)"
   ]
  },
  {
   "cell_type": "code",
   "execution_count": 13,
   "id": "36ff78f0",
   "metadata": {},
   "outputs": [],
   "source": [
    "con.close()\n",
    "cur.close()"
   ]
  },
  {
   "cell_type": "code",
   "execution_count": null,
   "id": "4bba635c",
   "metadata": {},
   "outputs": [],
   "source": []
  }
 ],
 "metadata": {
  "kernelspec": {
   "display_name": "Python 3",
   "language": "python",
   "name": "python3"
  },
  "language_info": {
   "codemirror_mode": {
    "name": "ipython",
    "version": 3
   },
   "file_extension": ".py",
   "mimetype": "text/x-python",
   "name": "python",
   "nbconvert_exporter": "python",
   "pygments_lexer": "ipython3",
   "version": "3.8.8"
  }
 },
 "nbformat": 4,
 "nbformat_minor": 5
}
